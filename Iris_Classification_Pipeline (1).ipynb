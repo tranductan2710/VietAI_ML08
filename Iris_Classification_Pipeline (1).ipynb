{
  "cells": [
    {
      "cell_type": "code",
      "execution_count": 9,
      "id": "ce6fdc5d",
      "metadata": {
        "id": "ce6fdc5d"
      },
      "outputs": [],
      "source": [
        "\n",
        "!pip install -q fastapi uvicorn nest-asyncio pyngrok gradio scikit-learn pandas seaborn matplotlib\n"
      ]
    },
    {
      "cell_type": "code",
      "execution_count": 10,
      "id": "f91cb7b3",
      "metadata": {
        "colab": {
          "base_uri": "https://localhost:8080/"
        },
        "id": "f91cb7b3",
        "outputId": "3a8460da-8a61-4045-ee5f-6029506587f9"
      },
      "outputs": [
        {
          "output_type": "execute_result",
          "data": {
            "text/plain": [
              "['iris_label_encoder.pkl']"
            ]
          },
          "metadata": {},
          "execution_count": 10
        }
      ],
      "source": [
        "\n",
        "import pandas as pd\n",
        "import numpy as np\n",
        "import seaborn as sns\n",
        "import matplotlib.pyplot as plt\n",
        "from sklearn.model_selection import train_test_split\n",
        "from sklearn.preprocessing import StandardScaler, LabelEncoder\n",
        "from sklearn.linear_model import LogisticRegression\n",
        "from sklearn.ensemble import RandomForestClassifier\n",
        "from sklearn.metrics import classification_report, confusion_matrix\n",
        "import joblib\n",
        "\n",
        "# Đọc dữ liệu\n",
        "df = pd.read_csv(\"/content/Iris.csv\")\n",
        "df.drop('Id', axis=1, inplace=True)\n",
        "\n",
        "# Encode nhãn\n",
        "le = LabelEncoder()\n",
        "df[\"Species\"] = le.fit_transform(df[\"Species\"])\n",
        "\n",
        "# Tách đặc trưng và nhãn\n",
        "X = df.drop(\"Species\", axis=1)\n",
        "y = df[\"Species\"]\n",
        "\n",
        "# Chuẩn hóa\n",
        "scaler = StandardScaler()\n",
        "X_scaled = scaler.fit_transform(X)\n",
        "\n",
        "# Train/Test split\n",
        "X_train, X_test, y_train, y_test = train_test_split(X_scaled, y, test_size=0.2, random_state=42)\n",
        "\n",
        "# Huấn luyện mô hình tốt nhất\n",
        "model = RandomForestClassifier(n_estimators=100, random_state=42)\n",
        "model.fit(X_train, y_train)\n",
        "\n",
        "# Lưu mô hình\n",
        "joblib.dump(model, \"iris_best_model.pkl\")\n",
        "joblib.dump(scaler, \"iris_scaler.pkl\")\n",
        "joblib.dump(le, \"iris_label_encoder.pkl\")\n"
      ]
    },
    {
      "cell_type": "code",
      "execution_count": 11,
      "id": "03b35785",
      "metadata": {
        "colab": {
          "base_uri": "https://localhost:8080/"
        },
        "id": "03b35785",
        "outputId": "926870c4-e164-4f4b-e6d5-d85cf8e26fd4"
      },
      "outputs": [
        {
          "output_type": "stream",
          "name": "stdout",
          "text": [
            "Overwriting iris_api.py\n"
          ]
        }
      ],
      "source": [
        "\n",
        "%%writefile iris_api.py\n",
        "from fastapi import FastAPI\n",
        "from pydantic import BaseModel\n",
        "import joblib\n",
        "import numpy as np\n",
        "\n",
        "app = FastAPI()\n",
        "\n",
        "model = joblib.load(\"iris_best_model.pkl\")\n",
        "scaler = joblib.load(\"iris_scaler.pkl\")\n",
        "label_encoder = joblib.load(\"iris_label_encoder.pkl\")\n",
        "\n",
        "class IrisInput(BaseModel):\n",
        "    SepalLengthCm: float\n",
        "    SepalWidthCm: float\n",
        "    PetalLengthCm: float\n",
        "    PetalWidthCm: float\n",
        "\n",
        "@app.post(\"/predict\")\n",
        "def predict_species(data: IrisInput):\n",
        "    features = np.array([\n",
        "        [data.SepalLengthCm, data.SepalWidthCm, data.PetalLengthCm, data.PetalWidthCm]\n",
        "    ])\n",
        "    scaled = scaler.transform(features)\n",
        "    prediction = model.predict(scaled)\n",
        "    label = label_encoder.inverse_transform(prediction)[0]\n",
        "    return {\"prediction\": label}\n"
      ]
    },
    {
      "cell_type": "code",
      "execution_count": null,
      "id": "51bdb10b",
      "metadata": {
        "colab": {
          "base_uri": "https://localhost:8080/"
        },
        "id": "51bdb10b",
        "outputId": "d0e01f7f-948b-44fc-fdf0-c7392826f81d"
      },
      "outputs": [
        {
          "output_type": "stream",
          "name": "stdout",
          "text": [
            "🔗 Public URL: NgrokTunnel: \"https://f2d1-34-171-35-97.ngrok-free.app\" -> \"http://localhost:8000\"\n"
          ]
        },
        {
          "output_type": "stream",
          "name": "stderr",
          "text": [
            "INFO:     Started server process [335]\n",
            "INFO:     Waiting for application startup.\n",
            "INFO:     Application startup complete.\n",
            "INFO:     Uvicorn running on http://0.0.0.0:8000 (Press CTRL+C to quit)\n"
          ]
        },
        {
          "output_type": "stream",
          "name": "stdout",
          "text": [
            "INFO:     172.31.38.1:0 - \"GET /static/fonts/IBMPlexMono/IBMPlexMono-Regular.woff2 HTTP/1.1\" 200 OK\n",
            "INFO:     172.31.38.1:0 - \"POST /gradio_api/queue/join HTTP/1.1\" 200 OK\n",
            "INFO:     34.171.35.97:0 - \"POST /predict HTTP/1.1\" 200 OK\n",
            "INFO:     172.31.38.1:0 - \"GET /gradio_api/queue/data?session_hash=ouxzl5m9i1i HTTP/1.1\" 200 OK\n"
          ]
        },
        {
          "output_type": "stream",
          "name": "stderr",
          "text": [
            "/usr/local/lib/python3.11/dist-packages/sklearn/utils/validation.py:2739: UserWarning: X does not have valid feature names, but StandardScaler was fitted with feature names\n",
            "  warnings.warn(\n"
          ]
        }
      ],
      "source": [
        "\n",
        "from pyngrok import ngrok\n",
        "import nest_asyncio\n",
        "import uvicorn\n",
        "\n",
        "ngrok.set_auth_token(\"2zDalgx2Q0FAhEpPHeNVPGxzIRM_xsTkJgTi9mZv5EA5eSrq\")\n",
        "nest_asyncio.apply()\n",
        "public_url = ngrok.connect(8000)\n",
        "print(\"🔗 Public URL:\", public_url)\n",
        "\n",
        "# Lưu URL cho Gradio\n",
        "api_url = public_url.public_url + \"/predict\"\n",
        "\n",
        "# Chạy FastAPI server (cell này sẽ giữ kernel hoạt động)\n",
        "uvicorn.run(\"iris_api:app\", host=\"0.0.0.0\", port=8000)\n"
      ]
    },
    {
      "cell_type": "code",
      "execution_count": null,
      "id": "9b36251c",
      "metadata": {
        "id": "9b36251c"
      },
      "outputs": [],
      "source": [
        "\n",
        "import gradio as gr\n",
        "import requests\n",
        "\n",
        "def predict_flower(sepal_length, sepal_width, petal_length, petal_width):\n",
        "    data = {\n",
        "        \"SepalLengthCm\": sepal_length,\n",
        "        \"SepalWidthCm\": sepal_width,\n",
        "        \"PetalLengthCm\": petal_length,\n",
        "        \"PetalWidthCm\": petal_width\n",
        "    }\n",
        "    response = requests.post(api_url, json=data)\n",
        "    if response.status_code == 200:\n",
        "        return response.json()[\"prediction\"]\n",
        "    else:\n",
        "        return \"Lỗi dự đoán!\"\n",
        "\n",
        "demo = gr.Interface(\n",
        "    fn=predict_flower,\n",
        "    inputs=[\n",
        "        gr.Number(label=\"Sepal Length (cm)\"),\n",
        "        gr.Number(label=\"Sepal Width (cm)\"),\n",
        "        gr.Number(label=\"Petal Length (cm)\"),\n",
        "        gr.Number(label=\"Petal Width (cm)\")\n",
        "    ],\n",
        "    outputs=gr.Textbox(label=\"Kết quả dự đoán\"),\n",
        "    title=\"🌸 Dự đoán Loài Hoa Iris\"\n",
        ")\n",
        "\n",
        "demo.launch(share=True)\n"
      ]
    }
  ],
  "metadata": {
    "colab": {
      "provenance": []
    },
    "language_info": {
      "name": "python"
    },
    "kernelspec": {
      "name": "python3",
      "display_name": "Python 3"
    }
  },
  "nbformat": 4,
  "nbformat_minor": 5
}